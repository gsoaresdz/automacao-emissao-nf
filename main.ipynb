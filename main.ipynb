{
 "cells": [
  {
   "cell_type": "markdown",
   "id": "f8b998e9",
   "metadata": {},
   "source": [
    "## Automação - Sistema de emissão de nota fiscal eletrônica NFe"
   ]
  },
  {
   "cell_type": "code",
   "execution_count": null,
   "id": "8f3d5a34",
   "metadata": {},
   "outputs": [],
   "source": [
    "from selenium import webdriver\n",
    "from selenium.webdriver.chrome.service import Service\n",
    "from webdriver_manager.chrome import ChromeDriverManager\n",
    "from selenium.webdriver.common.by import By\n",
    "\n",
    "# Permitir Download automático no Chrome\n",
    "options = webdriver.ChromeOptions()\n",
    "options.add_experimental_option(\"prefs\", {\n",
    "  \"download.default_directory\": r\"C:\\Teste\",\n",
    "  \"download.prompt_for_download\": False,\n",
    "  \"download.directory_upgrade\": True,\n",
    "  \"safebrowsing.enabled\": True\n",
    "})\n",
    "\n",
    "servico = Service(ChromeDriverManager().install())\n",
    "navegador = webdriver.Chrome(options=options)"
   ]
  },
  {
   "cell_type": "markdown",
   "id": "15c8ee75",
   "metadata": {},
   "source": [
    "###### Acessando página de Login"
   ]
  },
  {
   "cell_type": "code",
   "execution_count": null,
   "id": "f4492586",
   "metadata": {},
   "outputs": [],
   "source": [
    "import os\n",
    "\n",
    "caminho = os.getcwd()\n",
    "arquivo = caminho + r\"\\login.html\"\n",
    "navegador.get(arquivo)"
   ]
  },
  {
   "cell_type": "markdown",
   "id": "541d6710",
   "metadata": {},
   "source": [
    "###### Preenchendo Login"
   ]
  },
  {
   "cell_type": "code",
   "execution_count": null,
   "id": "32f1713a",
   "metadata": {},
   "outputs": [],
   "source": [
    "#Login\n",
    "navegador.find_element(By.XPATH, '/html/body/div/form/input[1]').send_keys('gabriel.souza@python.com.br')"
   ]
  },
  {
   "cell_type": "code",
   "execution_count": null,
   "id": "d7db64b9",
   "metadata": {},
   "outputs": [],
   "source": [
    "#Senha\n",
    "navegador.find_element(By.XPATH, '/html/body/div/form/input[2]').send_keys('python@2022')"
   ]
  },
  {
   "cell_type": "code",
   "execution_count": null,
   "id": "2a83bf9b",
   "metadata": {},
   "outputs": [],
   "source": [
    "#Botao de login \n",
    "navegador.find_element(By.XPATH, '/html/body/div/form/button').click()"
   ]
  },
  {
   "cell_type": "markdown",
   "id": "9b8c4803",
   "metadata": {},
   "source": [
    "###### Importando a base de clientes"
   ]
  },
  {
   "cell_type": "code",
   "execution_count": null,
   "id": "3ff76e13",
   "metadata": {},
   "outputs": [],
   "source": [
    "import pandas as pd\n",
    "\n",
    "tabela = pd.read_excel(\"NotasEmitir.xlsx\")\n",
    "display(tabela)"
   ]
  },
  {
   "cell_type": "markdown",
   "id": "06c93eff",
   "metadata": {},
   "source": [
    "###### Para cada linha cliente - rodar o processo de emissão de nota fiscal"
   ]
  },
  {
   "cell_type": "code",
   "execution_count": null,
   "id": "7431d5e4",
   "metadata": {},
   "outputs": [],
   "source": [
    "for linha in tabela.index:\n",
    "  #Razao Social\n",
    "  navegador.find_element(By.ID, 'nome').send_keys(tabela.loc[linha, \"Cliente\"])\n",
    "\n",
    "  #Bairro\n",
    "  navegador.find_element(By.NAME, 'bairro').send_keys(tabela.loc[linha, \"Endereço\"])\n",
    "\n",
    "  #Endereço\n",
    "  navegador.find_element(By.NAME, 'endereco').send_keys(tabela.loc[linha, \"Endereço\"])\n",
    "\n",
    "  #Bairro\n",
    "  navegador.find_element(By.NAME, 'bairro').send_keys(tabela.loc[linha, \"Bairro\"])\n",
    "\n",
    "  #Município\n",
    "  navegador.find_element(By.NAME, 'municipio').send_keys(tabela.loc[linha, \"Municipio\"])\n",
    "\n",
    "  #CEP\n",
    "  navegador.find_element(By.NAME, 'cep').send_keys(str(tabela.loc[linha, \"CEP\"]))\n",
    "\n",
    "  #UF\n",
    "  navegador.find_element(By.NAME, 'uf').send_keys(tabela.loc[linha, \"UF\"])\n",
    "\n",
    "  #CNPJ/CPF\n",
    "  navegador.find_element(By.NAME, 'cnpj').send_keys(str(tabela.loc[linha, \"CPF/CNPJ\"]))\n",
    "\n",
    "  #Inscrição estadual\n",
    "  navegador.find_element(By.NAME, 'inscricao').send_keys(str(tabela.loc[linha, \"Inscricao Estadual\"]))\n",
    "\n",
    "  #Descrição do produto/serviço \n",
    "  texto = tabela.loc[linha, \"Descrição\"]\n",
    "  navegador.find_element(By.NAME, 'descricao').send_keys(texto)\n",
    "\n",
    "  #Quantidade\n",
    "  navegador.find_element(By.NAME, 'quantidade').send_keys(str(tabela.loc[linha, \"Quantidade\"]))\n",
    "\n",
    "  #Valor unitário\n",
    "  navegador.find_element(By.NAME, 'valor_unitario').send_keys(str(tabela.loc[linha, \"Valor Unitario\"]))\n",
    "  \n",
    "  #Valor total\n",
    "  navegador.find_element(By.NAME, 'total').send_keys(str(tabela.loc[linha, \"Valor Total\"]))\n",
    "\n",
    "  #Emitir nota\n",
    "  navegador.find_element(By.CLASS_NAME, 'registerbtn').click()\n",
    "\n",
    "  #Recarregar página para limpar\n",
    "  navegador.refresh()"
   ]
  },
  {
   "cell_type": "markdown",
   "id": "120d15aa",
   "metadata": {},
   "source": [
    "###### Encerrar navegador"
   ]
  },
  {
   "cell_type": "code",
   "execution_count": null,
   "id": "90e576a6",
   "metadata": {},
   "outputs": [],
   "source": [
    "navegador.quit()"
   ]
  }
 ],
 "metadata": {
  "kernelspec": {
   "display_name": "base",
   "language": "python",
   "name": "python3"
  },
  "language_info": {
   "codemirror_mode": {
    "name": "ipython",
    "version": 3
   },
   "file_extension": ".py",
   "mimetype": "text/x-python",
   "name": "python",
   "nbconvert_exporter": "python",
   "pygments_lexer": "ipython3",
   "version": "3.9.7"
  },
  "vscode": {
   "interpreter": {
    "hash": "050e05a3433b3439c75c3996882c7a94442b00aaf0a5c5f8ac5c4068c5ae1f8a"
   }
  }
 },
 "nbformat": 4,
 "nbformat_minor": 5
}
